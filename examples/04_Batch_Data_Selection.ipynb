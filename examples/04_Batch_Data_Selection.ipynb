{
 "cells": [
  {
   "cell_type": "markdown",
   "metadata": {},
   "source": [
    "# Batch Active Learning\n",
    "\n",
    "While it is possible to perform rudimentary data selection simply by randomly choosing samples, the batch of data thus drawn might not be the most informative one.\n",
    "Choosing those samples with the largest prediction uncertainties from trajectories often results in the selection of configurations from subsequent time steps.\n",
    "\n",
    "Batch selection methods can be constructed to select informative and diverse data, with or without following the underlying distribution.\n",
    "\n",
    "We will illustrate this in a mock learning on the fly setup."
   ]
  },
  {
   "cell_type": "code",
   "execution_count": 1,
   "metadata": {},
   "outputs": [],
   "source": [
    "from pathlib import Path\n",
    "import yaml\n",
    "\n",
    "from ase.md.velocitydistribution import MaxwellBoltzmannDistribution\n",
    "from ase import units\n",
    "from ase.md.langevin import Langevin\n",
    "from ase.optimize.fire import FIRE\n",
    "from ase.io.trajectory import TrajectoryWriter\n",
    "from ase.io import read\n",
    "import numpy as np\n",
    "import matplotlib.pyplot as plt\n",
    "\n",
    "\n",
    "from apax.bal import api\n",
    "from apax.md import ASECalculator\n",
    "from apax.utils.datasets import download_md22_benzene_CCSDT, mod_md_datasets\n",
    "from apax.utils.helpers import mod_config"
   ]
  },
  {
   "cell_type": "markdown",
   "metadata": {},
   "source": [
    "## Dataset Acquisition"
   ]
  },
  {
   "cell_type": "code",
   "execution_count": 3,
   "metadata": {},
   "outputs": [],
   "source": [
    "# Download CCSD(T) Data\n",
    "data_path = Path(\"project\")\n",
    "cc_train_file_path, cc_val_file_path = download_md22_benzene_CCSDT(data_path)\n",
    "cc_train_file_path = mod_md_datasets(cc_train_file_path)\n",
    "cc_val_file_path = mod_md_datasets(cc_val_file_path)"
   ]
  },
  {
   "cell_type": "markdown",
   "metadata": {},
   "source": [
    "## Model Training\n",
    "\n",
    "Unlike simpler data selection methods, such as random selection, we first need to train a model.\n",
    "It is the representation learned by the model which will serve as the basis for our similarity metric."
   ]
  },
  {
   "cell_type": "code",
   "execution_count": 7,
   "metadata": {},
   "outputs": [
    {
     "name": "stderr",
     "output_type": "stream",
     "text": [
      "/home/ms/miniconda3/envs/apax311/lib/python3.11/pty.py:89: RuntimeWarning: os.fork() was called. os.fork() is incompatible with multithreaded code, and JAX is multithreaded, so this will likely lead to a deadlock.\n",
      "  pid, fd = os.forkpty()\n"
     ]
    }
   ],
   "source": [
    "!apax template train"
   ]
  },
  {
   "cell_type": "code",
   "execution_count": 10,
   "metadata": {},
   "outputs": [],
   "source": [
    "config_path = Path(\"config.yaml\")\n",
    "\n",
    "config_updates = {\n",
    "    \"n_epochs\": 200,\n",
    "    \"data\": {\n",
    "        \"batch_size\": 4,\n",
    "        \"valid_batch_size\": 100,\n",
    "        \"experiment\": \"benzene\",\n",
    "        \"directory\": \"project/models\",\n",
    "        \"train_data_path\": str(cc_train_file_path),\n",
    "        \"val_data_path\": str(cc_val_file_path),\n",
    "        \"data_path\": None,\n",
    "        \"energy_unit\": \"kcal/mol\",\n",
    "        \"pos_unit\": \"Ang\",\n",
    "    },\n",
    "}\n",
    "config_dict = mod_config(config_path, config_updates)\n",
    "\n",
    "with open(\"config.yaml\", \"w\") as conf:\n",
    "    yaml.dump(config_dict, conf, default_flow_style=False)"
   ]
  },
  {
   "cell_type": "code",
   "execution_count": 11,
   "metadata": {},
   "outputs": [
    {
     "name": "stderr",
     "output_type": "stream",
     "text": [
      "/home/ms/miniconda3/envs/apax311/lib/python3.11/pty.py:89: RuntimeWarning: os.fork() was called. os.fork() is incompatible with multithreaded code, and JAX is multithreaded, so this will likely lead to a deadlock.\n",
      "  pid, fd = os.forkpty()\n"
     ]
    },
    {
     "name": "stdout",
     "output_type": "stream",
     "text": [
      "INFO | 18:13:29 | Running on [cuda(id=0)]\n",
      "INFO | 18:13:29 | Initializing Callbacks\n",
      "INFO | 18:13:29 | Initializing Loss Function\n",
      "INFO | 18:13:29 | Initializing Metrics\n",
      "INFO | 18:13:29 | Running Input Pipeline\n",
      "INFO | 18:13:29 | Read training data file project/benzene_ccsd_t-train_mod.xyz\n",
      "INFO | 18:13:29 | Read validation data file project/benzene_ccsd_t-test_mod.xyz\n",
      "INFO | 18:13:29 | Loading data from project/benzene_ccsd_t-train_mod.xyz\n",
      "INFO | 18:13:29 | Loading data from project/benzene_ccsd_t-test_mod.xyz\n",
      "INFO | 18:13:30 | Computing per element energy regression.\n",
      "INFO | 18:13:30 | Initializing Model\n",
      "INFO | 18:13:30 | initializing 1 models\n",
      "INFO | 18:13:34 | Initializing Optimizer\n",
      "INFO | 18:13:34 | Beginning Training\n",
      "Epochs:   0%|                                                               | 0/200 [00:00<?, ?it/s]WARNING | 18:13:47 | SaveArgs.aggregate is deprecated, please use custom TypeHandler (https://orbax.readthedocs.io/en/latest/custom_handlers.html#typehandler) or contact Orbax team to migrate before May 1st, 2024. If your Pytree has empty ([], {}, None) values then use PyTreeCheckpointHandler(..., write_tree_metadata=True, ...) or use StandardCheckpointHandler to avoid TypeHandler Registry error. Please note that PyTreeCheckpointHandler.write_tree_metadata default value is already set to True.\n",
      "Epochs: 100%|██████████████████████████████████| 200/200 [01:31<00:00,  2.18it/s, val_loss=0.000692]\n",
      "INFO | 18:15:06 | Finished training\n"
     ]
    }
   ],
   "source": [
    "!apax train config.yaml"
   ]
  },
  {
   "cell_type": "markdown",
   "metadata": {},
   "source": [
    "## Molecular Dynamics / Data Generation\n",
    "\n",
    "Now we will create a pool of data to select new samples from.\n",
    "In order to emphasize the selection method used in the next section, we will combine MD and geometry optimization, a common occurrence in learning on the fly."
   ]
  },
  {
   "cell_type": "code",
   "execution_count": 40,
   "metadata": {},
   "outputs": [],
   "source": [
    "atoms = read(str(cc_train_file_path), \"0\")\n",
    "calc = ASECalculator(\"project/models/benzene\")\n",
    "atoms.calc = calc"
   ]
  },
  {
   "cell_type": "code",
   "execution_count": 42,
   "metadata": {},
   "outputs": [
    {
     "name": "stdout",
     "output_type": "stream",
     "text": [
      "Energy per atom: Epot = -524.783eV  Ekin = 0.042eV (T=322K)  Etot = -524.741eV\n",
      "Energy per atom: Epot = -524.784eV  Ekin = 0.032eV (T=246K)  Etot = -524.752eV\n",
      "Energy per atom: Epot = -524.786eV  Ekin = 0.037eV (T=287K)  Etot = -524.749eV\n",
      "Energy per atom: Epot = -524.784eV  Ekin = 0.033eV (T=252K)  Etot = -524.752eV\n",
      "Energy per atom: Epot = -524.786eV  Ekin = 0.040eV (T=307K)  Etot = -524.746eV\n",
      "Energy per atom: Epot = -524.781eV  Ekin = 0.036eV (T=275K)  Etot = -524.746eV\n",
      "Energy per atom: Epot = -524.783eV  Ekin = 0.038eV (T=295K)  Etot = -524.745eV\n",
      "Energy per atom: Epot = -524.777eV  Ekin = 0.031eV (T=242K)  Etot = -524.745eV\n",
      "Energy per atom: Epot = -524.772eV  Ekin = 0.038eV (T=292K)  Etot = -524.735eV\n",
      "Energy per atom: Epot = -524.776eV  Ekin = 0.039eV (T=305K)  Etot = -524.736eV\n",
      "Energy per atom: Epot = -524.788eV  Ekin = 0.055eV (T=427K)  Etot = -524.733eV\n",
      "      Step     Time          Energy         fmax\n",
      "FIRE:    0 18:31:17    -6297.460205        2.9797\n",
      "FIRE:    1 18:31:17    -6297.640137        0.9522\n",
      "FIRE:    2 18:31:17    -6297.634888        2.8176\n",
      "FIRE:    3 18:31:17    -6297.690125        2.0002\n",
      "FIRE:    4 18:31:17    -6297.744812        0.7309\n",
      "FIRE:    5 18:31:17    -6297.752930        1.0354\n",
      "FIRE:    6 18:31:17    -6297.754883        0.9791\n",
      "FIRE:    7 18:31:17    -6297.759338        0.8737\n",
      "FIRE:    8 18:31:17    -6297.764954        0.7249\n",
      "FIRE:    9 18:31:17    -6297.770813        0.5532\n",
      "FIRE:   10 18:31:17    -6297.776001        0.4649\n",
      "FIRE:   11 18:31:17    -6297.780212        0.4568\n",
      "FIRE:   12 18:31:17    -6297.783813        0.4434\n",
      "FIRE:   13 18:31:17    -6297.788879        0.5014\n",
      "FIRE:   14 18:31:17    -6297.794434        0.5313\n",
      "FIRE:   15 18:31:17    -6297.801697        0.4645\n",
      "FIRE:   16 18:31:17    -6297.810730        0.3380\n",
      "FIRE:   17 18:31:17    -6297.818176        0.2703\n",
      "FIRE:   18 18:31:17    -6297.823425        0.2700\n",
      "FIRE:   19 18:31:17    -6297.829163        0.3942\n",
      "FIRE:   20 18:31:17    -6297.834229        0.3305\n",
      "FIRE:   21 18:31:17    -6297.838928        0.2279\n",
      "FIRE:   22 18:31:17    -6297.841248        0.3689\n",
      "FIRE:   23 18:31:17    -6297.845642        0.3514\n",
      "FIRE:   24 18:31:17    -6297.849121        0.2314\n",
      "FIRE:   25 18:31:17    -6297.850342        0.3102\n",
      "FIRE:   26 18:31:17    -6297.850586        0.2551\n",
      "FIRE:   27 18:31:17    -6297.851562        0.1678\n",
      "FIRE:   28 18:31:17    -6297.852051        0.1254\n",
      "FIRE:   29 18:31:17    -6297.852356        0.1746\n",
      "FIRE:   30 18:31:17    -6297.853149        0.2219\n",
      "FIRE:   31 18:31:17    -6297.853760        0.2102\n",
      "FIRE:   32 18:31:17    -6297.854919        0.1454\n",
      "FIRE:   33 18:31:17    -6297.855469        0.0630\n",
      "FIRE:   34 18:31:17    -6297.856812        0.1301\n",
      "FIRE:   35 18:31:17    -6297.857239        0.1528\n",
      "FIRE:   36 18:31:17    -6297.857483        0.0839\n",
      "FIRE:   37 18:31:17    -6297.857483        0.0878\n",
      "FIRE:   38 18:31:17    -6297.857605        0.0763\n",
      "FIRE:   39 18:31:17    -6297.857544        0.0549\n",
      "FIRE:   40 18:31:17    -6297.857056        0.0411\n"
     ]
    },
    {
     "data": {
      "text/plain": [
       "True"
      ]
     },
     "execution_count": 42,
     "metadata": {},
     "output_type": "execute_result"
    }
   ],
   "source": [
    "def printenergy(a=atoms):  # store a reference to atoms in the definition.\n",
    "    \"\"\"Function to print the potential, kinetic and total energy.\"\"\"\n",
    "    epot = a.get_potential_energy() / len(a)\n",
    "    ekin = a.get_kinetic_energy() / len(a)\n",
    "    print('Energy per atom: Epot = %.3feV  Ekin = %.3feV (T=%3.0fK)  '\n",
    "          'Etot = %.3feV' % (epot, ekin, ekin / (1.5 * units.kB), epot + ekin))\n",
    "\n",
    "writer = TrajectoryWriter(\"project/benzene.traj\", \"w\", atoms)\n",
    "\n",
    "MaxwellBoltzmannDistribution(atoms, temperature_K=298)\n",
    "dyn = Langevin(atoms, 0.5*units.fs, temperature_K=298, friction=0.002)\n",
    "dyn.attach(writer, interval=100)\n",
    "dyn.attach(printenergy, interval=1000)\n",
    "dyn.run(10000)\n",
    "\n",
    "opt = FIRE(atoms)\n",
    "opt.attach(writer)\n",
    "opt.run()"
   ]
  },
  {
   "cell_type": "markdown",
   "metadata": {},
   "source": [
    "## Selecting New Datapoints\n",
    "\n",
    "Now it is time to select new data points from our pool.\n",
    "In the following we choose the last-layer gradient kernel as the similarity metric and the max dist selection method (farthest point sampling) to select 10 datapoints from out pool."
   ]
  },
  {
   "cell_type": "code",
   "execution_count": 4,
   "metadata": {},
   "outputs": [],
   "source": [
    "train_atoms = read(str(cc_train_file_path), \":\")\n",
    "pool_atoms = read(\"project/benzene.traj\", \":\")"
   ]
  },
  {
   "cell_type": "code",
   "execution_count": 5,
   "metadata": {},
   "outputs": [
    {
     "data": {
      "text/plain": [
       "142"
      ]
     },
     "execution_count": 5,
     "metadata": {},
     "output_type": "execute_result"
    }
   ],
   "source": [
    "len(pool_atoms)"
   ]
  },
  {
   "cell_type": "code",
   "execution_count": 6,
   "metadata": {},
   "outputs": [
    {
     "name": "stderr",
     "output_type": "stream",
     "text": [
      "Computing features: 100%|██████████████████████████████████████| 1142/1142 [00:04<00:00, 273.60it/s]"
     ]
    },
    {
     "name": "stdout",
     "output_type": "stream",
     "text": [
      "(1142, 513)\n"
     ]
    },
    {
     "name": "stderr",
     "output_type": "stream",
     "text": [
      "\n"
     ]
    }
   ],
   "source": [
    "base_fm_options = {\"name\": \"ll_grad\", \"layer_name\": \"dense_2\"}\n",
    "selection_method = \"max_dist\"\n",
    "\n",
    "bs = 10\n",
    "\n",
    "selected_indices = api.kernel_selection(\n",
    "    \"project/models/benzene\",\n",
    "    train_atoms,\n",
    "    pool_atoms,\n",
    "    base_fm_options,\n",
    "    selection_method,\n",
    "    selection_batch_size=bs,\n",
    "    processing_batch_size=bs,\n",
    ")"
   ]
  },
  {
   "cell_type": "code",
   "execution_count": 7,
   "metadata": {},
   "outputs": [
    {
     "data": {
      "text/plain": [
       "array([139,  99,   1,  34, 102,  78,   4,  17,  97,  72])"
      ]
     },
     "execution_count": 7,
     "metadata": {},
     "output_type": "execute_result"
    }
   ],
   "source": [
    "selected_indices"
   ]
  },
  {
   "cell_type": "code",
   "execution_count": 8,
   "metadata": {},
   "outputs": [],
   "source": [
    "energies = np.array([a.get_potential_energy() for a in pool_atoms])\n",
    "# selected_indices = np.random.randint(0, len(energies), 10)\n",
    "selection_energies = energies[selected_indices]"
   ]
  },
  {
   "cell_type": "markdown",
   "metadata": {},
   "source": [
    "As we can see below, the batch selection method only picks a few data points from the optimization part of the pool, indicating that during an optimization the structure of the molecule does not change very much.\n",
    "Hence, there are not many informative samples to be found in it."
   ]
  },
  {
   "cell_type": "code",
   "execution_count": 9,
   "metadata": {},
   "outputs": [
    {
     "data": {
      "text/plain": [
       "<matplotlib.legend.Legend at 0x79751d048c50>"
      ]
     },
     "execution_count": 9,
     "metadata": {},
     "output_type": "execute_result"
    },
    {
     "data": {
      "image/png": "[encoded data removed]",
      "text/plain": [
       "<Figure size 640x480 with 1 Axes>"
      ]
     },
     "metadata": {},
     "output_type": "display_data"
    }
   ],
   "source": [
    "fig, ax = plt.subplots()\n",
    "\n",
    "ax.plot(energies)\n",
    "ax.scatter(selected_indices, selection_energies, marker=\"x\", color=\"red\", label=\"selection\")\n",
    "ax.set_ylabel(\"Energy / eV\")\n",
    "ax.set_xlabel(\"Image\")\n",
    "ax.legend()"
   ]
  }
 ],
 "metadata": {
  "kernelspec": {
   "display_name": "apax311",
   "language": "python",
   "name": "python3"
  },
  "language_info": {
   "codemirror_mode": {
    "name": "ipython",
    "version": 3
   },
   "file_extension": ".py",
   "mimetype": "text/x-python",
   "name": "python",
   "nbconvert_exporter": "python",
   "pygments_lexer": "ipython3",
   "version": "3.11.5"
  }
 },
 "nbformat": 4,
 "nbformat_minor": 2
}
