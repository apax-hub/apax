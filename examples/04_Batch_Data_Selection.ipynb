{
 "cells": [
  {
   "cell_type": "markdown",
   "metadata": {},
   "source": [
    "# Batch Active Learning\n",
    "\n",
    "While it is possible to perform rudimentary data selection simply by randomly choosing samples, the batch of data thus drawn might not be the most informative one.\n",
    "Choosing those samples with the largest prediction uncertainties from trajectories often results in the selection of configurations from subsequent time steps.\n",
    "\n",
    "Batch selection methods can be constructed to select informative and diverse data, with or without following the underlying distribution.\n",
    "\n",
    "We will illustrate this in a mock learning on the fly setup."
   ]
  },
  {
   "cell_type": "code",
   "execution_count": 1,
   "metadata": {},
   "outputs": [
    {
     "name": "stderr",
     "output_type": "stream",
     "text": [
      "WARNING: All log messages before absl::InitializeLog() is called are written to STDERR\n",
      "E0000 00:00:1732268812.515731  526715 cuda_dnn.cc:8310] Unable to register cuDNN factory: Attempting to register factory for plugin cuDNN when one has already been registered\n",
      "E0000 00:00:1732268812.518770  526715 cuda_blas.cc:1418] Unable to register cuBLAS factory: Attempting to register factory for plugin cuBLAS when one has already been registered\n"
     ]
    }
   ],
   "source": [
    "from pathlib import Path\n",
    "\n",
    "import matplotlib.pyplot as plt\n",
    "import numpy as np\n",
    "import yaml\n",
    "from ase import units\n",
    "from ase.io import read\n",
    "from ase.io.trajectory import TrajectoryWriter\n",
    "from ase.md.langevin import Langevin\n",
    "from ase.md.velocitydistribution import MaxwellBoltzmannDistribution\n",
    "from ase.optimize.fire import FIRE\n",
    "\n",
    "from apax.bal import api\n",
    "from apax.md import ASECalculator\n",
    "from apax.utils.datasets import download_md22_benzene_CCSDT, mod_md_datasets\n",
    "from apax.utils.helpers import mod_config"
   ]
  },
  {
   "cell_type": "markdown",
   "metadata": {},
   "source": [
    "## Dataset Acquisition"
   ]
  },
  {
   "cell_type": "code",
   "execution_count": 2,
   "metadata": {},
   "outputs": [],
   "source": [
    "# Download CCSD(T) Data\n",
    "data_path = Path(\"project\")\n",
    "cc_train_file_path, cc_val_file_path = download_md22_benzene_CCSDT(data_path)\n",
    "cc_train_file_path = mod_md_datasets(cc_train_file_path)\n",
    "cc_val_file_path = mod_md_datasets(cc_val_file_path)"
   ]
  },
  {
   "cell_type": "markdown",
   "metadata": {},
   "source": [
    "## Model Training\n",
    "\n",
    "Unlike simpler data selection methods, such as random selection, we first need to train a model.\n",
    "It is the representation learned by the model which will serve as the basis for our similarity metric."
   ]
  },
  {
   "cell_type": "code",
   "execution_count": 3,
   "metadata": {},
   "outputs": [],
   "source": [
    "!apax template train --full"
   ]
  },
  {
   "cell_type": "code",
   "execution_count": 4,
   "metadata": {},
   "outputs": [],
   "source": [
    "config_path = Path(\"config_full.yaml\")\n",
    "\n",
    "config_updates = {\n",
    "    \"n_epochs\": 200,\n",
    "    \"data\": {\n",
    "        \"batch_size\": 4,\n",
    "        \"valid_batch_size\": 100,\n",
    "        \"experiment\": \"benzene\",\n",
    "        \"directory\": \"project/models\",\n",
    "        \"train_data_path\": str(cc_train_file_path),\n",
    "        \"val_data_path\": str(cc_val_file_path),\n",
    "        \"data_path\": None,\n",
    "        \"energy_unit\": \"kcal/mol\",\n",
    "        \"pos_unit\": \"Ang\",\n",
    "    },\n",
    "}\n",
    "config_dict = mod_config(config_path, config_updates)\n",
    "\n",
    "with open(\"config_full.yaml\", \"w\") as conf:\n",
    "    yaml.dump(config_dict, conf, default_flow_style=False)"
   ]
  },
  {
   "cell_type": "code",
   "execution_count": 5,
   "metadata": {},
   "outputs": [
    {
     "name": "stdout",
     "output_type": "stream",
     "text": [
      "WARNING: All log messages before absl::InitializeLog() is called are written to STDERR\n",
      "E0000 00:00:1732268817.378390  526800 cuda_dnn.cc:8310] Unable to register cuDNN factory: Attempting to register factory for plugin cuDNN when one has already been registered\n",
      "E0000 00:00:1732268817.381573  526800 cuda_blas.cc:1418] Unable to register cuBLAS factory: Attempting to register factory for plugin cuBLAS when one has already been registered\n",
      "INFO | 09:46:59 | Running on [CudaDevice(id=0)]\n",
      "INFO | 09:46:59 | Initializing Callbacks\n",
      "INFO | 09:46:59 | Initializing Loss Function\n",
      "INFO | 09:46:59 | Initializing Metrics\n",
      "INFO | 09:46:59 | Running Input Pipeline\n",
      "INFO | 09:46:59 | Reading training data file project/benzene_ccsd_t-train_mod.xyz\n",
      "INFO | 09:46:59 | Reading validation data file project/benzene_ccsd_t-test_mod.xyz\n",
      "INFO | 09:47:00 | Found n_train: 1000, n_val: 500\n",
      "INFO | 09:47:00 | Computing per element energy regression.\n",
      "INFO | 09:47:00 | Building Standard model\n",
      "INFO | 09:47:01 | initializing 1 model(s)\n",
      "INFO | 09:47:07 | Initializing Optimizer\n",
      "INFO | 09:47:07 | Beginning Training\n",
      "Epochs:   0%|                                                               | 0/200 [00:00<?, ?it/s]WARNING | 09:47:16 | SaveArgs.aggregate is deprecated, please use custom TypeHandler (https://orbax.readthedocs.io/en/latest/custom_handlers.html#typehandler) or contact Orbax team to migrate before August 1st, 2024.\n",
      "Epochs: 100%|███████████████████████████████████| 200/200 [01:56<00:00,  1.72it/s, val_loss=0.00414]\n",
      "INFO | 09:49:04 | Finished training\n"
     ]
    }
   ],
   "source": [
    "!apax train config_full.yaml"
   ]
  },
  {
   "cell_type": "markdown",
   "metadata": {},
   "source": [
    "## Molecular Dynamics / Data Generation\n",
    "\n",
    "Now we will create a pool of data to select new samples from.\n",
    "In order to emphasize the selection method used in the next section, we will combine MD and geometry optimization, a common occurrence in learning on the fly."
   ]
  },
  {
   "cell_type": "code",
   "execution_count": 6,
   "metadata": {},
   "outputs": [],
   "source": [
    "atoms = read(str(cc_train_file_path), \"0\")\n",
    "calc = ASECalculator(\"project/models/benzene\")\n",
    "atoms.calc = calc"
   ]
  },
  {
   "cell_type": "code",
   "execution_count": 7,
   "metadata": {},
   "outputs": [
    {
     "name": "stdout",
     "output_type": "stream",
     "text": [
      "Energy per atom: Epot = -524.782eV  Ekin = 0.034eV (T=266K)  Etot = -524.748eV\n",
      "Energy per atom: Epot = -524.786eV  Ekin = 0.047eV (T=367K)  Etot = -524.739eV\n",
      "Energy per atom: Epot = -524.789eV  Ekin = 0.044eV (T=344K)  Etot = -524.745eV\n",
      "Energy per atom: Epot = -524.798eV  Ekin = 0.050eV (T=389K)  Etot = -524.748eV\n",
      "Energy per atom: Epot = -524.779eV  Ekin = 0.033eV (T=259K)  Etot = -524.745eV\n",
      "Energy per atom: Epot = -524.778eV  Ekin = 0.029eV (T=226K)  Etot = -524.748eV\n",
      "Energy per atom: Epot = -524.796eV  Ekin = 0.052eV (T=400K)  Etot = -524.745eV\n",
      "Energy per atom: Epot = -524.778eV  Ekin = 0.030eV (T=230K)  Etot = -524.748eV\n",
      "Energy per atom: Epot = -524.783eV  Ekin = 0.031eV (T=242K)  Etot = -524.751eV\n",
      "Energy per atom: Epot = -524.799eV  Ekin = 0.037eV (T=286K)  Etot = -524.762eV\n",
      "Energy per atom: Epot = -524.794eV  Ekin = 0.039eV (T=301K)  Etot = -524.755eV\n",
      "      Step     Time          Energy          fmax\n",
      "FIRE:    0 09:49:17    -6297.529843        3.433130\n",
      "FIRE:    1 09:49:17    -6297.707876        0.822871\n",
      "FIRE:    2 09:49:17    -6297.653997        2.416255\n",
      "FIRE:    3 09:49:17    -6297.701468        1.822036\n",
      "FIRE:    4 09:49:17    -6297.755201        0.799443\n",
      "FIRE:    5 09:49:17    -6297.771731        0.639807\n",
      "FIRE:    6 09:49:17    -6297.770975        0.635587\n",
      "FIRE:    7 09:49:17    -6297.774358        0.628206\n",
      "FIRE:    8 09:49:17    -6297.776426        0.617073\n",
      "FIRE:    9 09:49:17    -6297.779687        0.603059\n",
      "FIRE:   10 09:49:17    -6297.782312        0.586707\n",
      "FIRE:   11 09:49:17    -6297.786402        0.568710\n",
      "FIRE:   12 09:49:17    -6297.790373        0.550295\n",
      "FIRE:   13 09:49:17    -6297.793097        0.528365\n",
      "FIRE:   14 09:49:17    -6297.797588        0.504850\n",
      "FIRE:   15 09:49:17    -6297.802828        0.477577\n",
      "FIRE:   16 09:49:17    -6297.810041        0.446206\n",
      "FIRE:   17 09:49:17    -6297.816479        0.407242\n",
      "FIRE:   18 09:49:17    -6297.821895        0.358514\n",
      "FIRE:   19 09:49:17    -6297.828423        0.300577\n",
      "FIRE:   20 09:49:17    -6297.835409        0.244853\n",
      "FIRE:   21 09:49:17    -6297.841073        0.207934\n",
      "FIRE:   22 09:49:17    -6297.844864        0.208605\n",
      "FIRE:   23 09:49:17    -6297.848110        0.154047\n",
      "FIRE:   24 09:49:17    -6297.849490        0.151302\n",
      "FIRE:   25 09:49:17    -6297.848904        0.132234\n",
      "FIRE:   26 09:49:17    -6297.851377        0.131325\n",
      "FIRE:   27 09:49:17    -6297.852449        0.132891\n",
      "FIRE:   28 09:49:17    -6297.851385        0.134429\n",
      "FIRE:   29 09:49:17    -6297.850981        0.132706\n",
      "FIRE:   30 09:49:17    -6297.853413        0.127714\n",
      "FIRE:   31 09:49:17    -6297.853684        0.119362\n",
      "FIRE:   32 09:49:17    -6297.853303        0.107520\n",
      "FIRE:   33 09:49:17    -6297.854404        0.095077\n",
      "FIRE:   34 09:49:17    -6297.853003        0.086662\n",
      "FIRE:   35 09:49:17    -6297.856393        0.082878\n",
      "FIRE:   36 09:49:17    -6297.855421        0.077966\n",
      "FIRE:   37 09:49:17    -6297.855617        0.070408\n",
      "FIRE:   38 09:49:17    -6297.856790        0.064497\n",
      "FIRE:   39 09:49:17    -6297.858416        0.063379\n",
      "FIRE:   40 09:49:17    -6297.857967        0.061494\n",
      "FIRE:   41 09:49:17    -6297.857515        0.062909\n",
      "FIRE:   42 09:49:17    -6297.858565        0.051126\n",
      "FIRE:   43 09:49:17    -6297.859075        0.076019\n",
      "FIRE:   44 09:49:17    -6297.857729        0.045322\n"
     ]
    },
    {
     "data": {
      "text/plain": [
       "True"
      ]
     },
     "execution_count": 7,
     "metadata": {},
     "output_type": "execute_result"
    }
   ],
   "source": [
    "def printenergy(a=atoms):  # store a reference to atoms in the definition.\n",
    "    \"\"\"Function to print the potential, kinetic and total energy.\"\"\"\n",
    "    epot = a.get_potential_energy() / len(a)\n",
    "    ekin = a.get_kinetic_energy() / len(a)\n",
    "    print(\n",
    "        \"Energy per atom: Epot = %.3feV  Ekin = %.3feV (T=%3.0fK)  \"\n",
    "        \"Etot = %.3feV\" % (epot, ekin, ekin / (1.5 * units.kB), epot + ekin)\n",
    "    )\n",
    "\n",
    "\n",
    "writer = TrajectoryWriter(\"project/benzene.traj\", \"w\", atoms)\n",
    "\n",
    "MaxwellBoltzmannDistribution(atoms, temperature_K=298)\n",
    "dyn = Langevin(atoms, 0.5 * units.fs, temperature_K=298, friction=0.002)\n",
    "dyn.attach(writer, interval=100)\n",
    "dyn.attach(printenergy, interval=1000)\n",
    "dyn.run(10000)\n",
    "\n",
    "opt = FIRE(atoms)\n",
    "opt.attach(writer)\n",
    "opt.run()"
   ]
  },
  {
   "cell_type": "markdown",
   "metadata": {},
   "source": [
    "## Selecting New Datapoints\n",
    "\n",
    "Now it is time to select new data points from our pool.\n",
    "In the following we choose the last-layer gradient kernel as the similarity metric and the max dist selection method (farthest point sampling) to select 10 datapoints from out pool."
   ]
  },
  {
   "cell_type": "code",
   "execution_count": 8,
   "metadata": {},
   "outputs": [],
   "source": [
    "train_atoms = read(str(cc_train_file_path), \":\")\n",
    "pool_atoms = read(\"project/benzene.traj\", \":\")"
   ]
  },
  {
   "cell_type": "code",
   "execution_count": 9,
   "metadata": {},
   "outputs": [
    {
     "data": {
      "text/plain": [
       "146"
      ]
     },
     "execution_count": 9,
     "metadata": {},
     "output_type": "execute_result"
    }
   ],
   "source": [
    "len(pool_atoms)"
   ]
  },
  {
   "cell_type": "code",
   "execution_count": 10,
   "metadata": {},
   "outputs": [
    {
     "name": "stderr",
     "output_type": "stream",
     "text": [
      "Computing features: 100%|██████████████████████████████████████| 1146/1146 [00:05<00:00, 224.35it/s]\n"
     ]
    }
   ],
   "source": [
    "base_fm_options = {\"name\": \"ll_grad\", \"layer_name\": \"dense_2\"}\n",
    "selection_method = \"max_dist\"\n",
    "\n",
    "bs = 10\n",
    "\n",
    "selected_indices = api.kernel_selection(\n",
    "    \"project/models/benzene\",\n",
    "    train_atoms,\n",
    "    pool_atoms,\n",
    "    base_fm_options,\n",
    "    selection_method,\n",
    "    selection_batch_size=bs,\n",
    "    processing_batch_size=bs,\n",
    ")"
   ]
  },
  {
   "cell_type": "code",
   "execution_count": 12,
   "metadata": {},
   "outputs": [],
   "source": [
    "energies = np.array([a.get_potential_energy() for a in pool_atoms])\n",
    "# selected_indices = np.random.randint(0, len(energies), 10)\n",
    "selection_energies = energies[selected_indices[0]]"
   ]
  },
  {
   "cell_type": "markdown",
   "metadata": {},
   "source": [
    "As we can see below, the batch selection method only picks a few data points from the optimization part of the pool, indicating that during an optimization the structure of the molecule does not change very much.\n",
    "Hence, there are not many informative samples to be found in it."
   ]
  },
  {
   "cell_type": "code",
   "execution_count": 13,
   "metadata": {},
   "outputs": [
    {
     "data": {
      "text/plain": [
       "<matplotlib.legend.Legend at 0x7fda74fda790>"
      ]
     },
     "execution_count": 13,
     "metadata": {},
     "output_type": "execute_result"
    },
    {
     "data": {
      "image/png": "[encoded data removed]",
      "text/plain": [
       "<Figure size 640x480 with 1 Axes>"
      ]
     },
     "metadata": {},
     "output_type": "display_data"
    }
   ],
   "source": [
    "fig, ax = plt.subplots()\n",
    "\n",
    "ax.plot(energies)\n",
    "ax.scatter(\n",
    "    selected_indices[0], selection_energies, marker=\"x\", color=\"red\", label=\"selection\"\n",
    ")\n",
    "ax.set_ylabel(\"Energy / eV\")\n",
    "ax.set_xlabel(\"Image\")\n",
    "ax.legend()"
   ]
  },
  {
   "cell_type": "code",
   "execution_count": 14,
   "metadata": {},
   "outputs": [],
   "source": [
    "!rm -rf project config_full.yaml"
   ]
  },
  {
   "cell_type": "code",
   "execution_count": null,
   "metadata": {},
   "outputs": [],
   "source": []
  }
 ],
 "metadata": {
  "kernelspec": {
   "display_name": "new_defaults",
   "language": "python",
   "name": "python3"
  },
  "language_info": {
   "codemirror_mode": {
    "name": "ipython",
    "version": 3
   },
   "file_extension": ".py",
   "mimetype": "text/x-python",
   "name": "python",
   "nbconvert_exporter": "python",
   "pygments_lexer": "ipython3",
   "version": "3.11.10"
  }
 },
 "nbformat": 4,
 "nbformat_minor": 2
}
